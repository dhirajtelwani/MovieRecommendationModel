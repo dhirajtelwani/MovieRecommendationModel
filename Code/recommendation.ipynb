{
 "cells": [
  {
   "cell_type": "code",
   "execution_count": 1,
   "id": "d2be7cdb",
   "metadata": {},
   "outputs": [],
   "source": [
    "import pandas as pd\n",
    "import numpy  as np\n",
    "import matplotlib.pyplot as plt\n",
    "import sklearn as sk\n",
    "import seaborn as sns"
   ]
  },
  {
   "cell_type": "code",
   "execution_count": 2,
   "id": "cb47854e",
   "metadata": {},
   "outputs": [],
   "source": [
    "df = pd.read_csv('cleaned_data.csv')"
   ]
  },
  {
   "cell_type": "code",
   "execution_count": 3,
   "id": "bac6d9a6",
   "metadata": {},
   "outputs": [
    {
     "name": "stdout",
     "output_type": "stream",
     "text": [
      "<class 'pandas.core.frame.DataFrame'>\n",
      "RangeIndex: 25793 entries, 0 to 25792\n",
      "Data columns (total 7 columns):\n",
      " #   Column        Non-Null Count  Dtype   \n",
      "---  ------        --------------  -----   \n",
      " 0   Release_Year  25793 non-null  int64   \n",
      " 1   Title         25793 non-null  object  \n",
      " 2   Popularity    25793 non-null  float64 \n",
      " 3   Vote_Count    25793 non-null  int64   \n",
      " 4   Vote_Average  25793 non-null  float64 \n",
      " 5   Genre         25793 non-null  category\n",
      " 6   Rating        25793 non-null  category\n",
      "dtypes: category(2), float64(2), int64(2), object(1)\n",
      "memory usage: 1.0+ MB\n"
     ]
    }
   ],
   "source": [
    "df['Genre'] = df['Genre'].astype('category')\n",
    "df['Rating'] = df['Rating'].astype('category')\n",
    "df.info()"
   ]
  },
  {
   "cell_type": "markdown",
   "id": "25e238ad",
   "metadata": {},
   "source": [
    "The code looks for a specific movie title entered by the user. It then finds similar movies based on popularity, vote count, and average rating The model compares movies using a method that finds the most alike ones. Finally, it shows the original movie and recommends others with similar traits."
   ]
  },
  {
   "cell_type": "code",
   "execution_count": 4,
   "id": "1f1b2213",
   "metadata": {},
   "outputs": [
    {
     "name": "stdout",
     "output_type": "stream",
     "text": [
      "\n",
      "Selected Movie: Pursuit\n",
      "Vote Average: 5.9\n",
      "\n",
      "Recommended Movies:\n",
      "Restless (Rating: 5.9) : Action\n",
      "Kimi (Rating: 6.3) : Thriller\n",
      "Fistful of Vengeance (Rating: 5.3) : Action\n",
      "Nightmare Alley (Rating: 7.1) : Crime\n",
      "My Hero Academia: World Heroes' Mission (Rating: 7.3) : Animation\n"
     ]
    }
   ],
   "source": [
    "from sklearn.preprocessing import StandardScaler\n",
    "from sklearn.neighbors import NearestNeighbors\n",
    "\n",
    "df_unique = df.drop_duplicates(subset='Title').reset_index(drop=True)\n",
    "\n",
    "# Prepare features\n",
    "features = df_unique[['Popularity', 'Vote_Count', 'Vote_Average']]\n",
    "scaler = StandardScaler()\n",
    "X_scaled = scaler.fit_transform(features)\n",
    "\n",
    "# Fit KNN model\n",
    "knn_model = NearestNeighbors(n_neighbors=6, algorithm='auto')\n",
    "knn_model.fit(X_scaled)\n",
    "\n",
    "#input\n",
    "movie_title = \"pursuit\".strip().lower()\n",
    "\n",
    "# Case-insensitive match\n",
    "df_unique['Title_lower'] = df_unique['Title'].str.lower()\n",
    "\n",
    "if movie_title in df_unique['Title_lower'].values:\n",
    "    movie_index = df_unique[df_unique['Title_lower'] == movie_title].index[0]\n",
    "\n",
    "    # Find similar movies\n",
    "    distances, indices = knn_model.kneighbors([X_scaled[movie_index]])\n",
    "\n",
    "    print(\"\\nSelected Movie:\", df_unique.loc[movie_index, 'Title'])\n",
    "    print(\"Vote Average:\", df_unique.loc[movie_index, 'Vote_Average'])\n",
    "\n",
    "    print(\"\\nRecommended Movies:\")\n",
    "    for idx in indices[0][1:]:  # Skip the first (same movie)\n",
    "        title = df_unique.loc[idx, 'Title']\n",
    "        vote_avg = df_unique.loc[idx, 'Vote_Average']\n",
    "        genre = df_unique.loc[idx, 'Genre']\n",
    "        print(f\"{title} (Rating: {vote_avg}) : {genre}\")\n",
    "else:\n",
    "    print(\"Sorry, movie not found.\")\n"
   ]
  }
 ],
 "metadata": {
  "kernelspec": {
   "display_name": "Python 3",
   "language": "python",
   "name": "python3"
  },
  "language_info": {
   "codemirror_mode": {
    "name": "ipython",
    "version": 3
   },
   "file_extension": ".py",
   "mimetype": "text/x-python",
   "name": "python",
   "nbconvert_exporter": "python",
   "pygments_lexer": "ipython3",
   "version": "3.13.2"
  }
 },
 "nbformat": 4,
 "nbformat_minor": 5
}
